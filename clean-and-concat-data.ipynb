{
 "cells": [
  {
   "cell_type": "markdown",
   "metadata": {},
   "source": [
    "Import Libraries and increase max rows and columns to see all data on output"
   ]
  },
  {
   "cell_type": "code",
   "execution_count": null,
   "metadata": {},
   "outputs": [],
   "source": [
    "#import libraries\n",
    "import pandas as pd\n",
    "import xlwings as xw\n",
    "import os\n",
    "import openpyxl as op\n",
    "import numpy as np\n",
    "import seaborn as sns\n",
    "from tkinter import Tk\n",
    "from tkinter import filedialog\n",
    "from tkinter import * \n",
    "pd.set_option(\"display.max_rows\", 100)\n",
    "pd.set_option(\"display.max_columns\", 100)"
   ]
  },
  {
   "cell_type": "markdown",
   "metadata": {},
   "source": [
    "Select folder where data is located and create list of file names"
   ]
  },
  {
   "cell_type": "code",
   "execution_count": null,
   "metadata": {},
   "outputs": [],
   "source": [
    "root = Tk()\n",
    "root.withdraw()\n",
    "#select folder path to use\n",
    "folderSelected = filedialog.askdirectory()\n",
    "files = os.listdir(folderSelected)"
   ]
  },
  {
   "cell_type": "code",
   "execution_count": null,
   "metadata": {},
   "outputs": [],
   "source": [
    "def get_sec(time_str): #function for formatting HH:MM:SS string to just seconds https://stackoverflow.com/questions/6402812/how-to-convert-an-hmmss-time-string-to-seconds-in-python\n",
    "    \"\"\"Get seconds from time.\"\"\"\n",
    "    h, m, s = time_str.split(':')\n",
    "    return int(h) * 3600 + int(m) * 60 + int(s)"
   ]
  },
  {
   "cell_type": "markdown",
   "metadata": {},
   "source": [
    "Create new columns for High intensity running"
   ]
  },
  {
   "cell_type": "code",
   "execution_count": null,
   "metadata": {},
   "outputs": [],
   "source": [
    "dfCollection = []\n",
    "x = 0 #this instead of enumerate incase more files than desired\n",
    "for file in files:\n",
    "    if file.rfind(\".csv\") > 0:\n",
    "        currentFile = folderSelected + \"/\" + file\n",
    "        dfCollection.append(pd.read_csv(currentFile))\n",
    "        nameStartLoc = currentFile.rfind(\"/\") +1\n",
    "        dfCollection[x].name = currentFile[nameStartLoc:].replace(\".csv\", \"\")\n",
    "        \n",
    "        dfCollection[x].rename(columns = {\"Distance in Speed zone 3 [m] (15.00 - 19.79 km/h)\":\"High Intensity Running (15.00 - 19.79 km/h) (m)\", \"Distance in Speed zone 4 [m] (19.80 - 25.19 km/h)\":\"High Speed Running (19.80 - 25.19 km/h) (m)\", \"Distance in Speed zone 5 [m] (25.20- km/h)\":\"Sprinting (25.20+ km/h) (m)\"}, inplace = True)\n",
    "        #sum up zone 3,4,5 running\n",
    "        dfCollection[x][\"Total High Intensity Sum (>15km/h) (m)\"] = dfCollection[x][\"High Intensity Running (15.00 - 19.79 km/h) (m)\"] + dfCollection[x][\"High Speed Running (19.80 - 25.19 km/h) (m)\"] + dfCollection[x][\"Sprinting (25.20+ km/h) (m)\"]\n",
    "\n",
    "        #create relative percentages for different speeds of running\n",
    "        dfCollection[x][\"Relative High Intensity Running (% of Total Running)\"] = (dfCollection[x][\"High Intensity Running (15.00 - 19.79 km/h) (m)\"] / dfCollection[x][\"Total distance [m]\"]) *100\n",
    "        dfCollection[x][\"Relative High Speed Running (% of Total Running)\"] = (dfCollection[x][\"High Speed Running (19.80 - 25.19 km/h) (m)\"]/ dfCollection[x][\"Total distance [m]\"]) * 100\n",
    "        dfCollection[x][\"Relative Sprinting (% of Total Running)\"] = (dfCollection[x][\"Sprinting (25.20+ km/h) (m)\"]/ dfCollection[x][\"Total distance [m]\"]) *100\n",
    "        dfCollection[x][\"Relative High Intensity Sum (% of Total Running)\"] = (dfCollection[x][\"Total High Intensity Sum (>15km/h) (m)\"]/ dfCollection[x][\"Total distance [m]\"]) *100\n",
    "        \n",
    "        #change type object for times in power zones\n",
    "        dfCollection[x][\"Time in power zone 1 (70 - 84 %)\"] = dfCollection[x][\"Time in power zone 1 (70 - 84 %)\"].astype(\"string\")\n",
    "        dfCollection[x][\"Time in power zone 1 (70 - 84 %)\"] = dfCollection[x][\"Time in power zone 1 (70 - 84 %)\"].apply(get_sec)\n",
    "        \n",
    "        dfCollection[x][\"Time in power zone 2 (85 - 99 %)\"] = dfCollection[x][\"Time in power zone 2 (85 - 99 %)\"].astype(\"string\")\n",
    "        dfCollection[x][\"Time in power zone 2 (85 - 99 %)\"] = dfCollection[x][\"Time in power zone 2 (85 - 99 %)\"].apply(get_sec)\n",
    "        \n",
    "        dfCollection[x][\"Time in power zone 3 (100 - 129 %)\"] = dfCollection[x][\"Time in power zone 3 (100 - 129 %)\"].astype(\"string\")\n",
    "        dfCollection[x][\"Time in power zone 3 (100 - 129 %)\"] = dfCollection[x][\"Time in power zone 3 (100 - 129 %)\"].apply(get_sec)\n",
    "        \n",
    "        dfCollection[x][\"Time in power zone 4 (130 - 179 %)\"] = dfCollection[x][\"Time in power zone 4 (130 - 179 %)\"].astype(\"string\")\n",
    "        dfCollection[x][\"Time in power zone 4 (130 - 179 %)\"] = dfCollection[x][\"Time in power zone 4 (130 - 179 %)\"].apply(get_sec)\n",
    "        \n",
    "        dfCollection[x][\"Time in power zone 5 (180 - 800 %)\"] = dfCollection[x][\"Time in power zone 5 (180 - 800 %)\"].astype(\"string\")\n",
    "        dfCollection[x][\"Time in power zone 5 (180 - 800 %)\"] = dfCollection[x][\"Time in power zone 5 (180 - 800 %)\"].apply(get_sec)\n",
    "    \n",
    "        x=x+1"
   ]
  },
  {
   "cell_type": "markdown",
   "metadata": {},
   "source": [
    "Combine first and second halfves into full game"
   ]
  },
  {
   "cell_type": "code",
   "execution_count": null,
   "metadata": {},
   "outputs": [],
   "source": [
    "columnNamesList = []\n",
    "firstHalf = []\n",
    "secondHalf = []\n",
    "fullGame = []\n",
    "for col in dfCollection[1].columns:\n",
    "    columnNamesList.append(col)\n",
    "    fullGame.append([])\n",
    "    firstHalf.append(dfCollection[1][col].values)\n",
    "for col in dfCollection[2].columns:\n",
    "    secondHalf.append(dfCollection[2][col].values)\n",
    "#might be way to iterate through original list names and create logic off of strings to allow for differing data to be inputted\n",
    "for iteration, x in enumerate(firstHalf):\n",
    "    for iterationTwo, y in enumerate(x):\n",
    "        #Names\n",
    "        if iteration == 0:\n",
    "            fullGame[iteration].append(firstHalf[iteration][iterationTwo])\n",
    "        #HRMIN\n",
    "        if iteration == 1:\n",
    "            fullGame[iteration].append(min(firstHalf[iteration][iterationTwo], secondHalf[iteration][iterationTwo]))\n",
    "        #HRAVG\n",
    "        if iteration == 2:\n",
    "            fullGame[iteration].append((firstHalf[iteration][iterationTwo] + secondHalf[iteration][iterationTwo])/2)\n",
    "        #HRMAX and Max Speed\n",
    "        if iteration == 3 or iteration == 5:\n",
    "            localMax = max(firstHalf[iteration][iterationTwo], secondHalf[iteration][iterationTwo])\n",
    "            if localMax > 100: #cleans data, anything over 100 is just 100\n",
    "                print(localMax)\n",
    "                localMax = 100\n",
    "            fullGame[iteration].append(localMax)\n",
    "        #Total distance and Sprints\tDistance in Speed zone 1 [m] (3.00 - 11.99 km/h)\tDistance in Speed zone 2 [m] (12.00 - 14.99 km/h)\tHigh Intensity Running (15.00 - 19.79 km/h) (m)\tHigh Speed Running (19.80 - 25.19 km/h) (m)\tSprinting (25.20+ km/h) (m)\tNumber of accelerations (-50.00 - -3.00 m/s²)\tNumber of accelerations (-2.99 - -2.00 m/s²)\tNumber of accelerations (-1.99 - -1.00 m/s²)\tNumber of accelerations (-0.99 - -0.50 m/s²)\tNumber of accelerations (0.50 - 0.99 m/s²)\tNumber of accelerations (1.00 - 1.99 m/s²)\tNumber of accelerations (2.00 - 2.99 m/s²)\tNumber of accelerations (3.00 - 50.00 m/s²)\tTraining load score\tCardio load\tTime in power zone 1 (70 - 84 %)\tTime in power zone 2 (85 - 99 %)\tTime in power zone 3 (100 - 129 %)\tTime in power zone 4 (130 - 179 %)\tTime in power zone 5 (180 - 800 %)\tMuscle load\tTotal High Intensity Sum (>15km/h) (m)\n",
    "        if iteration == 4 or (iteration >= 6 and iteration <= 28):\n",
    "            fullGame[iteration].append((firstHalf[iteration][iterationTwo] + secondHalf[iteration][iterationTwo]))\n",
    "        #Relative High Intensity Running (% of Total Running)\n",
    "        if iteration == 29:\n",
    "            fullGame[iteration].append((fullGame[9][iterationTwo])/(fullGame[4][iterationTwo])*100)\n",
    "        #Relative High Speed Running (% of Total Running)\n",
    "        if iteration == 30:\n",
    "            fullGame[iteration].append((fullGame[10][iterationTwo])/(fullGame[4][iterationTwo])*100)\n",
    "        #Relative Sprinting (% of Total Running)\n",
    "        if iteration == 31:\n",
    "            fullGame[iteration].append((fullGame[11][iterationTwo])/(fullGame[4][iterationTwo])*100)\n",
    "        #Relative High Intensity Sum (% of Total Running)\n",
    "        if iteration == 32:\n",
    "            fullGame[iteration].append((fullGame[28][iterationTwo])/(fullGame[4][iterationTwo])*100)\n",
    "\n",
    "fullGame.append([])\n",
    "columnNamesList.append(\"Game ID\")\n",
    "\n",
    "for x in fullGame[0]:\n",
    "    fullGame[33].append(folderSelected[(folderSelected.rfind(\"/\")+1):])\n",
    "\n",
    "df = pd.DataFrame(fullGame)\n",
    "df = df.transpose()\n",
    "df.columns = columnNamesList\n",
    "dfCollection.append(df)"
   ]
  },
  {
   "cell_type": "markdown",
   "metadata": {},
   "source": [
    "Write to Excel by iterating through list of files and checking to see if they are a csv"
   ]
  },
  {
   "cell_type": "code",
   "execution_count": null,
   "metadata": {},
   "outputs": [],
   "source": [
    "excelName = folderSelected + \"/\" + folderSelected[(folderSelected.rfind(\"/\")+1):] + \".xlsx\"\n",
    "\n",
    "with pd.ExcelWriter(excelName) as writer:\n",
    "    i = 0\n",
    "    for x in files:\n",
    "        if x.rfind(\".csv\") > 0:\n",
    "            x = x[(x.rfind(\"/\") + 1):].replace(\".csv\", \"\")\n",
    "            dfCollection[i].to_excel(writer,sheet_name=x)\n",
    "            i= i+1\n",
    "        if i == 3:\n",
    "             dfCollection[i].to_excel(writer,sheet_name=\"full-game\")\n",
    "             \n",
    "wkb = xw.books.open(excelName)\n",
    "i = 0\n",
    "for x in files:\n",
    "    if x.rfind(\".csv\") > 0:\n",
    "        xw.view(dfCollection[i], sheet = wkb.sheets(x.replace(\".csv\", \"\")))\n",
    "        i = i+1\n",
    "    if i == 3:\n",
    "        xw.view(dfCollection[i], sheet = wkb.sheets(\"full-game\"))"
   ]
  },
  {
   "cell_type": "markdown",
   "metadata": {},
   "source": [
    "Create full game CSV - to write to master sheet later"
   ]
  },
  {
   "cell_type": "code",
   "execution_count": null,
   "metadata": {},
   "outputs": [],
   "source": [
    "#dfCollection[3].to_csv(\"full-game.csv\", header= False)\n",
    "csvName = folderSelected + \"/full-game.csv\"\n",
    "dfCollection[3].to_csv(csvName)"
   ]
  }
 ],
 "metadata": {
  "interpreter": {
   "hash": "09c5dd7a8cc503ee26ff7bbcf84bbd3021bc555952d9a04775806c95195445e2"
  },
  "kernelspec": {
   "display_name": "Python 3.9.12 ('base')",
   "language": "python",
   "name": "python3"
  },
  "language_info": {
   "codemirror_mode": {
    "name": "ipython",
    "version": 3
   },
   "file_extension": ".py",
   "mimetype": "text/x-python",
   "name": "python",
   "nbconvert_exporter": "python",
   "pygments_lexer": "ipython3",
   "version": "3.9.12"
  },
  "orig_nbformat": 4
 },
 "nbformat": 4,
 "nbformat_minor": 2
}
