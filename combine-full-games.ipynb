{
 "cells": [
  {
   "cell_type": "code",
   "execution_count": 1,
   "metadata": {},
   "outputs": [],
   "source": [
    "import pandas as pd\n",
    "import openpyxl as op\n",
    "import os\n",
    "from tkinter import Tk\n",
    "from tkinter import filedialog\n",
    "from tkinter import * \n",
    "pd.set_option(\"display.max_rows\", 100)\n",
    "pd.set_option(\"display.max_columns\", 100)"
   ]
  },
  {
   "cell_type": "code",
   "execution_count": 2,
   "metadata": {},
   "outputs": [],
   "source": [
    "root = Tk()\n",
    "root.withdraw()\n",
    "#select folder path to use\n",
    "folderSelected = filedialog.askdirectory()\n",
    "# #folderSelected = \"/Users/ethanbrown/Desktop/Speed Training/Yo-Yo Level 2 Research/polar-downloads\"\n",
    "files = os.listdir(folderSelected)"
   ]
  },
  {
   "cell_type": "code",
   "execution_count": 4,
   "metadata": {},
   "outputs": [
    {
     "name": "stdout",
     "output_type": "stream",
     "text": [
      "/Users/ethanbrown/Desktop/Speed Training/Yo-Yo Level 2 Research/polar-downloads/May 15 - Cavalry/full-game.csv\n",
      "/Users/ethanbrown/Desktop/Speed Training/Yo-Yo Level 2 Research/polar-downloads/March 26 - Rovers/full-game.csv\n",
      "/Users/ethanbrown/Desktop/Speed Training/Yo-Yo Level 2 Research/polar-downloads/May 7 - Valour/full-game.csv\n",
      "/Users/ethanbrown/Desktop/Speed Training/Yo-Yo Level 2 Research/polar-downloads/April 16 - Ottawa/full-game.csv\n"
     ]
    },
    {
     "ename": "NotADirectoryError",
     "evalue": "[Errno 20] Not a directory: '/Users/ethanbrown/Desktop/Speed Training/Yo-Yo Level 2 Research/polar-downloads/.DS_Store'",
     "output_type": "error",
     "traceback": [
      "\u001b[0;31m---------------------------------------------------------------------------\u001b[0m",
      "\u001b[0;31mNotADirectoryError\u001b[0m                        Traceback (most recent call last)",
      "\u001b[1;32m/Users/ethanbrown/Desktop/Speed Training/Yo-Yo Level 2 Research/Polar-Team-Pro-CSV-Concat/combine-full-games.ipynb Cell 3'\u001b[0m in \u001b[0;36m<cell line: 2>\u001b[0;34m()\u001b[0m\n\u001b[1;32m      <a href='vscode-notebook-cell:/Users/ethanbrown/Desktop/Speed%20Training/Yo-Yo%20Level%202%20Research/Polar-Team-Pro-CSV-Concat/combine-full-games.ipynb#ch0000002?line=1'>2</a>\u001b[0m \u001b[39mfor\u001b[39;00m file \u001b[39min\u001b[39;00m files:\n\u001b[1;32m      <a href='vscode-notebook-cell:/Users/ethanbrown/Desktop/Speed%20Training/Yo-Yo%20Level%202%20Research/Polar-Team-Pro-CSV-Concat/combine-full-games.ipynb#ch0000002?line=2'>3</a>\u001b[0m     newFolder \u001b[39m=\u001b[39m folderSelected \u001b[39m+\u001b[39m \u001b[39m\"\u001b[39m\u001b[39m/\u001b[39m\u001b[39m\"\u001b[39m \u001b[39m+\u001b[39m file\n\u001b[0;32m----> <a href='vscode-notebook-cell:/Users/ethanbrown/Desktop/Speed%20Training/Yo-Yo%20Level%202%20Research/Polar-Team-Pro-CSV-Concat/combine-full-games.ipynb#ch0000002?line=3'>4</a>\u001b[0m     files_deeper \u001b[39m=\u001b[39m os\u001b[39m.\u001b[39;49mlistdir(newFolder)\n\u001b[1;32m      <a href='vscode-notebook-cell:/Users/ethanbrown/Desktop/Speed%20Training/Yo-Yo%20Level%202%20Research/Polar-Team-Pro-CSV-Concat/combine-full-games.ipynb#ch0000002?line=4'>5</a>\u001b[0m     currentFile \u001b[39m=\u001b[39m newFolder \u001b[39m+\u001b[39m \u001b[39m\"\u001b[39m\u001b[39m/\u001b[39m\u001b[39m\"\u001b[39m \u001b[39m+\u001b[39m \u001b[39m\"\u001b[39m\u001b[39mfull-game.csv\u001b[39m\u001b[39m\"\u001b[39m\n\u001b[1;32m      <a href='vscode-notebook-cell:/Users/ethanbrown/Desktop/Speed%20Training/Yo-Yo%20Level%202%20Research/Polar-Team-Pro-CSV-Concat/combine-full-games.ipynb#ch0000002?line=5'>6</a>\u001b[0m     \u001b[39mprint\u001b[39m(currentFile)\n",
      "\u001b[0;31mNotADirectoryError\u001b[0m: [Errno 20] Not a directory: '/Users/ethanbrown/Desktop/Speed Training/Yo-Yo Level 2 Research/polar-downloads/.DS_Store'"
     ]
    }
   ],
   "source": [
    "df = []\n",
    "for file in files:\n",
    "    x = file.rfind(\".\")\n",
    "    print(x)\n",
    "    if x < 0:\n",
    "        newFolder = folderSelected + \"/\" + file\n",
    "        files_deeper = os.listdir(newFolder)\n",
    "        currentFile = newFolder + \"/\" + \"full-game.csv\"\n",
    "        print(currentFile)\n",
    "        #df.append(pd.read_csv(currentFile))\n",
    "        \n"
   ]
  },
  {
   "cell_type": "code",
   "execution_count": null,
   "metadata": {},
   "outputs": [],
   "source": []
  }
 ],
 "metadata": {
  "interpreter": {
   "hash": "09c5dd7a8cc503ee26ff7bbcf84bbd3021bc555952d9a04775806c95195445e2"
  },
  "kernelspec": {
   "display_name": "Python 3.9.12 ('base')",
   "language": "python",
   "name": "python3"
  },
  "language_info": {
   "codemirror_mode": {
    "name": "ipython",
    "version": 3
   },
   "file_extension": ".py",
   "mimetype": "text/x-python",
   "name": "python",
   "nbconvert_exporter": "python",
   "pygments_lexer": "ipython3",
   "version": "3.9.12"
  },
  "orig_nbformat": 4
 },
 "nbformat": 4,
 "nbformat_minor": 2
}
