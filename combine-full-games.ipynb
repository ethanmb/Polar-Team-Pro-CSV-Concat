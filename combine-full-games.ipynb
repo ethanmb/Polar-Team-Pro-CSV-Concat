{
 "cells": [
  {
   "cell_type": "markdown",
   "metadata": {},
   "source": [
    "Import libraries"
   ]
  },
  {
   "cell_type": "code",
   "execution_count": null,
   "metadata": {},
   "outputs": [],
   "source": [
    "import pandas as pd\n",
    "import openpyxl as op\n",
    "import os\n",
    "from tkinter import Tk\n",
    "from tkinter import filedialog\n",
    "from tkinter import * \n",
    "pd.set_option(\"display.max_rows\", 100000)\n",
    "pd.set_option(\"display.max_columns\", 100000)"
   ]
  },
  {
   "cell_type": "markdown",
   "metadata": {},
   "source": [
    "Select folder to iterate through deeper game folders"
   ]
  },
  {
   "cell_type": "code",
   "execution_count": null,
   "metadata": {},
   "outputs": [],
   "source": [
    "root = Tk()\n",
    "root.withdraw()\n",
    "#select folder path to use\n",
    "folderSelected = filedialog.askdirectory()\n",
    "# #folderSelected = \"/Users/ethanbrown/Desktop/Speed Training/Yo-Yo Level 2 Research/polar-downloads\"\n",
    "files = os.listdir(folderSelected)"
   ]
  },
  {
   "cell_type": "markdown",
   "metadata": {},
   "source": [
    "Iterate through game folders and append full-game data from each game to master sheet"
   ]
  },
  {
   "cell_type": "code",
   "execution_count": null,
   "metadata": {},
   "outputs": [],
   "source": [
    "dfIterator = []\n",
    "\n",
    "for file in files:\n",
    "    x = file.rfind(\".\")\n",
    "    if x < 0:\n",
    "        newFolder = folderSelected + \"/\" + file\n",
    "        files_deeper = os.listdir(newFolder)\n",
    "        currentFile = newFolder + \"/\" + \"full-game.csv\"\n",
    "        dfIterator.append(pd.read_csv(currentFile))\n",
    "\n",
    "\n",
    "df = pd.read_csv(currentFile)\n",
    "\n",
    "for x, frames in enumerate(dfIterator):\n",
    "    dfIterator[x] = frames.drop([\"Unnamed: 0\"], axis = 1)\n",
    "    if x > 0:\n",
    "        df = df.append(dfIterator[x], ignore_index = True)\n",
    "df = df.drop([\"Unnamed: 0\"], axis = 1)\n",
    "df = df.dropna()\n",
    "df.to_csv(\"master-game-sheet.csv\")"
   ]
  },
  {
   "cell_type": "code",
   "execution_count": null,
   "metadata": {},
   "outputs": [],
   "source": []
  }
 ],
 "metadata": {
  "interpreter": {
   "hash": "09c5dd7a8cc503ee26ff7bbcf84bbd3021bc555952d9a04775806c95195445e2"
  },
  "kernelspec": {
   "display_name": "Python 3.9.12 ('base')",
   "language": "python",
   "name": "python3"
  },
  "language_info": {
   "codemirror_mode": {
    "name": "ipython",
    "version": 3
   },
   "file_extension": ".py",
   "mimetype": "text/x-python",
   "name": "python",
   "nbconvert_exporter": "python",
   "pygments_lexer": "ipython3",
   "version": "3.9.12"
  },
  "orig_nbformat": 4
 },
 "nbformat": 4,
 "nbformat_minor": 2
}
