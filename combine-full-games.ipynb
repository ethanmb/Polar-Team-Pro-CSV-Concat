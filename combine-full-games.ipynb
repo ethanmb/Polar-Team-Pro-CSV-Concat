{
 "cells": [
  {
   "cell_type": "code",
   "execution_count": 1,
   "metadata": {},
   "outputs": [],
   "source": [
    "import pandas as pd\n",
    "import openpyxl as op\n",
    "import os\n",
    "from tkinter import Tk\n",
    "from tkinter import filedialog\n",
    "from tkinter import * \n",
    "pd.set_option(\"display.max_rows\", 100)\n",
    "pd.set_option(\"display.max_columns\", 100)"
   ]
  },
  {
   "cell_type": "code",
   "execution_count": 2,
   "metadata": {},
   "outputs": [],
   "source": [
    "root = Tk()\n",
    "root.withdraw()\n",
    "#select folder path to use\n",
    "folderSelected = filedialog.askdirectory()\n",
    "# #folderSelected = \"/Users/ethanbrown/Desktop/Speed Training/Yo-Yo Level 2 Research/polar-downloads\"\n",
    "files = os.listdir(folderSelected)"
   ]
  },
  {
   "cell_type": "code",
   "execution_count": 3,
   "metadata": {},
   "outputs": [],
   "source": [
    "df = []\n",
    "for file in files:\n",
    "    x = file.rfind(\".\")\n",
    "    if x < 0:\n",
    "        newFolder = folderSelected + \"/\" + file\n",
    "        files_deeper = os.listdir(newFolder)\n",
    "        currentFile = newFolder + \"/\" + \"full-game.csv\"\n",
    "        #df.append(pd.read_csv(currentFile))\n",
    "        \n"
   ]
  },
  {
   "cell_type": "code",
   "execution_count": null,
   "metadata": {},
   "outputs": [],
   "source": []
  }
 ],
 "metadata": {
  "interpreter": {
   "hash": "09c5dd7a8cc503ee26ff7bbcf84bbd3021bc555952d9a04775806c95195445e2"
  },
  "kernelspec": {
   "display_name": "Python 3.9.12 ('base')",
   "language": "python",
   "name": "python3"
  },
  "language_info": {
   "codemirror_mode": {
    "name": "ipython",
    "version": 3
   },
   "file_extension": ".py",
   "mimetype": "text/x-python",
   "name": "python",
   "nbconvert_exporter": "python",
   "pygments_lexer": "ipython3",
   "version": "3.9.12"
  },
  "orig_nbformat": 4
 },
 "nbformat": 4,
 "nbformat_minor": 2
}
